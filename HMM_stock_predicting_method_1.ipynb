{
  "nbformat": 4,
  "nbformat_minor": 0,
  "metadata": {
    "colab": {
      "name": "HMM_stock_predicting_method_1.ipynb",
      "provenance": [],
      "authorship_tag": "ABX9TyNwei1D46I36skH4zVml3Eb",
      "include_colab_link": true
    },
    "kernelspec": {
      "name": "python3",
      "display_name": "Python 3"
    },
    "language_info": {
      "name": "python"
    }
  },
  "cells": [
    {
      "cell_type": "markdown",
      "metadata": {
        "id": "view-in-github",
        "colab_type": "text"
      },
      "source": [
        "<a href=\"https://colab.research.google.com/github/tanvu10/Hidden_Markov_Model/blob/master/HMM_stock_predicting_method_1.ipynb\" target=\"_parent\"><img src=\"https://colab.research.google.com/assets/colab-badge.svg\" alt=\"Open In Colab\"/></a>"
      ]
    },
    {
      "cell_type": "code",
      "metadata": {
        "id": "f3_Fauk9vDce"
      },
      "source": [
        "#!pip install hmmlearn\n",
        "from hmmlearn import hmm \n",
        "import pandas as pd \n",
        "import numpy as np \n",
        "import matplotlib.pyplot as plt"
      ],
      "execution_count": 1,
      "outputs": []
    },
    {
      "cell_type": "code",
      "metadata": {
        "colab": {
          "base_uri": "https://localhost:8080/",
          "height": 419
        },
        "id": "y7zYLQg2vPnZ",
        "outputId": "3347981c-05e5-4ac9-f09a-df8b866b9507"
      },
      "source": [
        "stock = pd.read_csv('VNINDEX1.csv')\n",
        "stock"
      ],
      "execution_count": 2,
      "outputs": [
        {
          "output_type": "execute_result",
          "data": {
            "text/html": [
              "<div>\n",
              "<style scoped>\n",
              "    .dataframe tbody tr th:only-of-type {\n",
              "        vertical-align: middle;\n",
              "    }\n",
              "\n",
              "    .dataframe tbody tr th {\n",
              "        vertical-align: top;\n",
              "    }\n",
              "\n",
              "    .dataframe thead th {\n",
              "        text-align: right;\n",
              "    }\n",
              "</style>\n",
              "<table border=\"1\" class=\"dataframe\">\n",
              "  <thead>\n",
              "    <tr style=\"text-align: right;\">\n",
              "      <th></th>\n",
              "      <th>Date</th>\n",
              "      <th>Open</th>\n",
              "      <th>High</th>\n",
              "      <th>Low</th>\n",
              "      <th>Close</th>\n",
              "      <th>Volume</th>\n",
              "    </tr>\n",
              "  </thead>\n",
              "  <tbody>\n",
              "    <tr>\n",
              "      <th>0</th>\n",
              "      <td>2000-07-28</td>\n",
              "      <td>100.0000</td>\n",
              "      <td>100.00</td>\n",
              "      <td>100.00</td>\n",
              "      <td>100.00</td>\n",
              "      <td>4200</td>\n",
              "    </tr>\n",
              "    <tr>\n",
              "      <th>1</th>\n",
              "      <td>2000-07-31</td>\n",
              "      <td>101.5500</td>\n",
              "      <td>101.55</td>\n",
              "      <td>101.55</td>\n",
              "      <td>101.55</td>\n",
              "      <td>10300</td>\n",
              "    </tr>\n",
              "    <tr>\n",
              "      <th>2</th>\n",
              "      <td>2000-08-02</td>\n",
              "      <td>103.3800</td>\n",
              "      <td>103.38</td>\n",
              "      <td>103.38</td>\n",
              "      <td>103.38</td>\n",
              "      <td>300</td>\n",
              "    </tr>\n",
              "    <tr>\n",
              "      <th>3</th>\n",
              "      <td>2000-08-04</td>\n",
              "      <td>105.2000</td>\n",
              "      <td>105.20</td>\n",
              "      <td>105.20</td>\n",
              "      <td>105.20</td>\n",
              "      <td>3800</td>\n",
              "    </tr>\n",
              "    <tr>\n",
              "      <th>4</th>\n",
              "      <td>2000-08-07</td>\n",
              "      <td>106.9200</td>\n",
              "      <td>106.92</td>\n",
              "      <td>106.92</td>\n",
              "      <td>106.92</td>\n",
              "      <td>13200</td>\n",
              "    </tr>\n",
              "    <tr>\n",
              "      <th>...</th>\n",
              "      <td>...</td>\n",
              "      <td>...</td>\n",
              "      <td>...</td>\n",
              "      <td>...</td>\n",
              "      <td>...</td>\n",
              "      <td>...</td>\n",
              "    </tr>\n",
              "    <tr>\n",
              "      <th>5137</th>\n",
              "      <td>2021-10-18</td>\n",
              "      <td>1395.5699</td>\n",
              "      <td>1402.63</td>\n",
              "      <td>1390.88</td>\n",
              "      <td>1395.53</td>\n",
              "      <td>740018700</td>\n",
              "    </tr>\n",
              "    <tr>\n",
              "      <th>5138</th>\n",
              "      <td>2021-10-19</td>\n",
              "      <td>1395.5300</td>\n",
              "      <td>1399.66</td>\n",
              "      <td>1388.95</td>\n",
              "      <td>1395.33</td>\n",
              "      <td>582318100</td>\n",
              "    </tr>\n",
              "    <tr>\n",
              "      <th>5139</th>\n",
              "      <td>2021-10-20</td>\n",
              "      <td>1398.4500</td>\n",
              "      <td>1401.76</td>\n",
              "      <td>1376.15</td>\n",
              "      <td>1393.80</td>\n",
              "      <td>771825800</td>\n",
              "    </tr>\n",
              "    <tr>\n",
              "      <th>5140</th>\n",
              "      <td>2021-10-21</td>\n",
              "      <td>1397.5900</td>\n",
              "      <td>1398.45</td>\n",
              "      <td>1384.77</td>\n",
              "      <td>1384.77</td>\n",
              "      <td>659155300</td>\n",
              "    </tr>\n",
              "    <tr>\n",
              "      <th>5141</th>\n",
              "      <td>2021-10-22</td>\n",
              "      <td>1384.7700</td>\n",
              "      <td>1393.45</td>\n",
              "      <td>1384.77</td>\n",
              "      <td>1389.24</td>\n",
              "      <td>798130096</td>\n",
              "    </tr>\n",
              "  </tbody>\n",
              "</table>\n",
              "<p>5142 rows × 6 columns</p>\n",
              "</div>"
            ],
            "text/plain": [
              "            Date       Open     High      Low    Close     Volume\n",
              "0     2000-07-28   100.0000   100.00   100.00   100.00       4200\n",
              "1     2000-07-31   101.5500   101.55   101.55   101.55      10300\n",
              "2     2000-08-02   103.3800   103.38   103.38   103.38        300\n",
              "3     2000-08-04   105.2000   105.20   105.20   105.20       3800\n",
              "4     2000-08-07   106.9200   106.92   106.92   106.92      13200\n",
              "...          ...        ...      ...      ...      ...        ...\n",
              "5137  2021-10-18  1395.5699  1402.63  1390.88  1395.53  740018700\n",
              "5138  2021-10-19  1395.5300  1399.66  1388.95  1395.33  582318100\n",
              "5139  2021-10-20  1398.4500  1401.76  1376.15  1393.80  771825800\n",
              "5140  2021-10-21  1397.5900  1398.45  1384.77  1384.77  659155300\n",
              "5141  2021-10-22  1384.7700  1393.45  1384.77  1389.24  798130096\n",
              "\n",
              "[5142 rows x 6 columns]"
            ]
          },
          "metadata": {},
          "execution_count": 2
        }
      ]
    },
    {
      "cell_type": "code",
      "metadata": {
        "id": "aGk-1qNfwBAt"
      },
      "source": [
        "def data_processing(dataframe):        \n",
        "    # dataframe['Date'] = [i.split(' ')[0][:] for i in dataframe['Date']]\n",
        "    dataframe['Date'] = dataframe['Date'].apply(pd.Timestamp) #very important: convert string to date\n",
        "    dataframe = dataframe[dataframe['Date'] >= pd.to_datetime('2015-01-01' , format='%Y-%m-%d')]\n",
        "    dataframe.set_index(['Date'], inplace = True)\n",
        "    return dataframe\n",
        "\n",
        "\n",
        "def return_cal(dataframe):\n",
        "    dataframe['return'] = (dataframe['Close'] - dataframe['Close'].shift(1))/dataframe['Close'].shift(1)\n",
        "    dataframe.dropna(inplace  = True)"
      ],
      "execution_count": 3,
      "outputs": []
    },
    {
      "cell_type": "code",
      "metadata": {
        "id": "3Zre144CwPqq",
        "colab": {
          "base_uri": "https://localhost:8080/"
        },
        "outputId": "c8c904a1-aace-41b8-ba29-884655ee347f"
      },
      "source": [
        "stock = data_processing(stock)\n",
        "return_cal(stock)"
      ],
      "execution_count": 4,
      "outputs": [
        {
          "output_type": "stream",
          "name": "stderr",
          "text": [
            "/usr/local/lib/python3.7/dist-packages/ipykernel_launcher.py:10: SettingWithCopyWarning: \n",
            "A value is trying to be set on a copy of a slice from a DataFrame.\n",
            "Try using .loc[row_indexer,col_indexer] = value instead\n",
            "\n",
            "See the caveats in the documentation: https://pandas.pydata.org/pandas-docs/stable/user_guide/indexing.html#returning-a-view-versus-a-copy\n",
            "  # Remove the CWD from sys.path while we load stuff.\n",
            "/usr/local/lib/python3.7/dist-packages/ipykernel_launcher.py:11: SettingWithCopyWarning: \n",
            "A value is trying to be set on a copy of a slice from a DataFrame\n",
            "\n",
            "See the caveats in the documentation: https://pandas.pydata.org/pandas-docs/stable/user_guide/indexing.html#returning-a-view-versus-a-copy\n",
            "  # This is added back by InteractiveShellApp.init_path()\n"
          ]
        }
      ]
    },
    {
      "cell_type": "code",
      "metadata": {
        "colab": {
          "base_uri": "https://localhost:8080/"
        },
        "id": "7nLHN5a9wUvM",
        "outputId": "1e827be6-dfbb-4b53-c939-31cf55f9603b"
      },
      "source": [
        "train = stock[:'2021-09-01']\n",
        "test = stock['2021-09-02':]\n",
        "# print(train)\n",
        "print(test)\n",
        "test.iloc[:-1, :]\n",
        "test.iloc[-1,5]\n",
        "# test.iloc[1,3]\n",
        "# len(test)\n",
        "# test.iloc[:14,:]\n",
        "# sim = pd.concat([train, test.iloc[:1,:]], axis =0 )\n",
        "# sim"
      ],
      "execution_count": 5,
      "outputs": [
        {
          "output_type": "stream",
          "name": "stdout",
          "text": [
            "                 Open       High        Low      Close     Volume    return\n",
            "Date                                                                       \n",
            "2021-09-06  1340.7100  1348.3600  1339.8000  1346.3900  871508000  0.008796\n",
            "2021-09-07  1349.1300  1353.6600  1340.3199  1341.9000  829928300 -0.003335\n",
            "2021-09-08  1343.9200  1344.4900  1328.3500  1333.6100  580802100 -0.006178\n",
            "2021-09-09  1333.6100  1345.5900  1332.6700  1343.9800  563607000  0.007776\n",
            "2021-09-10  1348.7400  1350.4301  1345.0699  1345.3101  530762800  0.000990\n",
            "2021-09-13  1348.0699  1350.6899  1340.5000  1341.4301  719863400 -0.002884\n",
            "2021-09-14  1343.3800  1349.1300  1336.8400  1339.7000  670954500 -0.001290\n",
            "2021-09-15  1338.1100  1347.7000  1334.9700  1345.8300  622274200  0.004576\n",
            "2021-09-16  1351.8500  1353.1200  1341.2300  1345.8700  547188700  0.000030\n",
            "2021-09-17  1347.6600  1356.4500  1347.1300  1352.6400  773922200  0.005030\n",
            "2021-09-20  1361.1200  1365.9200  1349.1801  1350.4800  820277200 -0.001597\n",
            "2021-09-21  1335.9600  1350.4800  1324.8199  1339.8400  787035700 -0.007879\n",
            "2021-09-22  1339.8400  1350.7100  1336.6300  1350.6801  706204600  0.008091\n",
            "2021-09-23  1357.6500  1361.0900  1350.4301  1352.7600  937843800  0.001540\n",
            "2021-09-24  1354.8400  1356.9700  1348.0699  1351.1700  612874400 -0.001175\n",
            "2021-09-27  1353.3900  1354.3800  1324.9900  1324.9900  702783900 -0.019376\n",
            "2021-09-28  1319.5300  1341.8101  1316.4100  1339.3101  567532100  0.010808\n",
            "2021-09-29  1338.8000  1340.9000  1328.1700  1339.2100  545429900 -0.000075\n",
            "2021-09-30  1341.8300  1348.8900  1341.1500  1342.0601  420717600  0.002128\n",
            "2021-10-01  1339.6801  1344.0601  1332.9700  1334.8900  584601900 -0.005343\n",
            "2021-10-04  1337.7400  1347.4900  1334.4000  1339.5400  683485400  0.003483\n",
            "2021-10-05  1345.4301  1354.6300  1343.4800  1354.6300  555948300  0.011265\n",
            "2021-10-06  1359.6300  1362.8199  1354.6300  1362.8199  575444400  0.006046\n",
            "2021-10-07  1365.5400  1367.6400  1360.5699  1365.9900  640283100  0.002326\n",
            "2021-10-08  1365.9900  1373.1801  1365.9301  1372.7300  580722600  0.004934\n",
            "2021-10-11  1377.5300  1394.6400  1377.3000  1394.0900  695144700  0.015560\n",
            "2021-10-12  1398.0300  1400.7800  1389.4301  1394.8000  680550900  0.000509\n",
            "2021-10-13  1398.2100  1400.6700  1389.6100  1391.9100  581359400 -0.002072\n",
            "2021-10-14  1392.8800  1398.6700  1388.8900  1391.8500  669287500 -0.000043\n",
            "2021-10-15  1395.8101  1399.0300  1388.0000  1392.7000  710519000  0.000611\n",
            "2021-10-18  1395.5699  1402.6300  1390.8800  1395.5300  740018700  0.002032\n",
            "2021-10-19  1395.5300  1399.6600  1388.9500  1395.3300  582318100 -0.000143\n",
            "2021-10-20  1398.4500  1401.7600  1376.1500  1393.8000  771825800 -0.001097\n",
            "2021-10-21  1397.5900  1398.4500  1384.7700  1384.7700  659155300 -0.006479\n",
            "2021-10-22  1384.7700  1393.4500  1384.7700  1389.2400  798130096  0.003228\n"
          ]
        },
        {
          "output_type": "execute_result",
          "data": {
            "text/plain": [
              "0.0032279728763621594"
            ]
          },
          "metadata": {},
          "execution_count": 5
        }
      ]
    },
    {
      "cell_type": "code",
      "metadata": {
        "id": "QfFCR6XVwVe3"
      },
      "source": [
        "def best_state_count(dataframe):\n",
        "    # aic_vec = []\n",
        "    bic_vec = []\n",
        "    M_obs_point = dataframe.shape[1]\n",
        "    #choose state randomly from 2-6:\n",
        "    for state in range(2,7):\n",
        "        param_num = state**2 + state - 1\n",
        "        #tol: convergence threshold\n",
        "        #use full cov matrix\n",
        "        model = hmm.GaussianHMM(n_components=state, covariance_type = 'full', tol = 0.0001, n_iter= 10000)\n",
        "        model.fit(dataframe.iloc[:, :5])\n",
        "        \n",
        "        # aic = -2*model.score(dataframe.iloc[:,:5]) + 2*param_num\n",
        "        # aic_vec.append(aic)\n",
        "        bic_vec.append( -2*model.score(dataframe.iloc[:,:5]) + param_num*np.log(M_obs_point) )\n",
        "\n",
        "    optimal_state = np.argmin(bic_vec)\n",
        "    return optimal_state"
      ],
      "execution_count": 6,
      "outputs": []
    },
    {
      "cell_type": "code",
      "metadata": {
        "id": "owUI8El-2exl"
      },
      "source": [
        "optimal_state = best_state_count(train)"
      ],
      "execution_count": 7,
      "outputs": []
    },
    {
      "cell_type": "code",
      "metadata": {
        "colab": {
          "base_uri": "https://localhost:8080/"
        },
        "id": "e94ycgzl2jgZ",
        "outputId": "ef69f538-e85d-4fe5-a2ce-e0b18743567c"
      },
      "source": [
        "print(optimal_state)"
      ],
      "execution_count": 8,
      "outputs": [
        {
          "output_type": "stream",
          "name": "stdout",
          "text": [
            "4\n"
          ]
        }
      ]
    },
    {
      "cell_type": "code",
      "metadata": {
        "id": "VPONqjzi24Wq"
      },
      "source": [
        "def prediction(train, test):\n",
        "    test_length = test.shape[0]\n",
        "    \n",
        "    p_prediction = []\n",
        "    r_prediction = []\n",
        "    for i in range(test_length+1):\n",
        "    \n",
        "        if i == 0:\n",
        "            new_train = train\n",
        "            model = hmm.GaussianHMM(n_components=optimal_state, covariance_type= 'full', tol = 0.0001, n_iter = 10000)\n",
        "        if i != 0:\n",
        "            new_train = pd.concat([train, test.iloc[:i,:]], axis = 0)\n",
        "            model = hmm.GaussianHMM(n_components=optimal_state,init_params='' , \n",
        "                                    covariance_type= 'full', tol = 0.0001, n_iter = 10000)\n",
        "            #reuse from previous step:\n",
        "            model.transmat_ = transmat_prior \n",
        "            model.startprob_ = startprob_prior\n",
        "            model.means_ = means_prior\n",
        "            model.covars_ = covars_prior\n",
        "\n",
        "        model.fit(new_train)\n",
        "        transmat_prior = model.transmat_\n",
        "        startprob_prior = model.startprob_\n",
        "        means_prior = model.means_\n",
        "        covars_prior = model.covars_\n",
        "\n",
        "        #backward_check\n",
        "        current_score = model.score(new_train)\n",
        "        gap = 1000\n",
        "        for j in reversed(range(1, new_train.shape[0])):\n",
        "            new_set = new_train.iloc[:j, :]  #from index 0 to j-1, inclusive\n",
        "            current_gap = np.abs(current_score - model.score(new_set))\n",
        "            current_sign = np.sign(current_score - model.score(new_set))\n",
        "            if current_gap < gap:\n",
        "                sign = current_sign\n",
        "                gap = current_gap\n",
        "                best_index = j\n",
        "             \n",
        "        \n",
        "\n",
        "        price_prediction = new_train.iloc[-1,3]   +    (new_train.iloc[best_index,3] - new_train.iloc[best_index-1,3]) * np.sign(sign)\n",
        "        p_prediction.append(price_prediction)\n",
        "        return_prediction = new_train.iloc[-1,5]   +    (new_train.iloc[best_index,5] - new_train.iloc[best_index-1,5]) * np.sign(sign)\n",
        "        r_prediction.append(return_prediction)\n",
        "    return p_prediction,r_prediction \n"
      ],
      "execution_count": 9,
      "outputs": []
    },
    {
      "cell_type": "code",
      "metadata": {
        "id": "j4ZDOOEzEQIU"
      },
      "source": [
        "price_vector, return_vector  = prediction(train, test)"
      ],
      "execution_count": 10,
      "outputs": []
    },
    {
      "cell_type": "code",
      "metadata": {
        "id": "adF9FdRRGcD6"
      },
      "source": [
        "# prediction_vector"
      ],
      "execution_count": 11,
      "outputs": []
    },
    {
      "cell_type": "code",
      "metadata": {
        "colab": {
          "base_uri": "https://localhost:8080/",
          "height": 265
        },
        "id": "w4-0AqJ7JiE6",
        "outputId": "0ba4c22c-5d1b-4de2-e816-b04aa881a160"
      },
      "source": [
        "# len(prediction_vector[:15])\n",
        "plt.plot(price_vector[:-1], color  = 'red', label = 'prediction')\n",
        "plt.plot(np.array(test.iloc[:,3]), color = 'green', label = 'actual')\n",
        "plt.legend(loc=\"upper left\")\n",
        "plt.show()"
      ],
      "execution_count": 13,
      "outputs": [
        {
          "output_type": "display_data",
          "data": {
            "image/png": "[encoded data removed]",
            "text/plain": [
              "<Figure size 432x288 with 1 Axes>"
            ]
          },
          "metadata": {
            "needs_background": "light"
          }
        }
      ]
    },
    {
      "cell_type": "code",
      "metadata": {
        "colab": {
          "base_uri": "https://localhost:8080/",
          "height": 265
        },
        "id": "UgNZXQ3ONKX1",
        "outputId": "fde2d8a6-5cce-4f67-8c6d-97c75b79137f"
      },
      "source": [
        "plt.plot(return_vector[:-1], color  = 'red', label = 'prediction')\n",
        "plt.plot(np.array(test.iloc[:,5]), color = 'green', label = 'actual')\n",
        "plt.legend(loc=\"upper left\")\n",
        "plt.show()"
      ],
      "execution_count": 14,
      "outputs": [
        {
          "output_type": "display_data",
          "data": {
            "image/png": "[encoded data removed]",
            "text/plain": [
              "<Figure size 432x288 with 1 Axes>"
            ]
          },
          "metadata": {
            "needs_background": "light"
          }
        }
      ]
    },
    {
      "cell_type": "code",
      "metadata": {
        "id": "dzjEcUXfYiZ2"
      },
      "source": [
        ""
      ],
      "execution_count": null,
      "outputs": []
    }
  ]
}