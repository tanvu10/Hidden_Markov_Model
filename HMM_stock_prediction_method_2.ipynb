{
  "nbformat": 4,
  "nbformat_minor": 0,
  "metadata": {
    "colab": {
      "name": "HMM_stock_prediction_method_2.ipynb",
      "provenance": [],
      "authorship_tag": "ABX9TyM+BpFR4lX0uy2zAZzpvr5E",
      "include_colab_link": true
    },
    "kernelspec": {
      "display_name": "Python 3",
      "name": "python3"
    },
    "language_info": {
      "name": "python"
    }
  },
  "cells": [
    {
      "cell_type": "markdown",
      "metadata": {
        "id": "view-in-github",
        "colab_type": "text"
      },
      "source": [
        "<a href=\"https://colab.research.google.com/github/tanvu10/Hidden_Markov_Model/blob/master/HMM_stock_prediction_method_2.ipynb\" target=\"_parent\"><img src=\"https://colab.research.google.com/assets/colab-badge.svg\" alt=\"Open In Colab\"/></a>"
      ]
    },
    {
      "cell_type": "code",
      "metadata": {
        "id": "KOOfPZNNl8g4",
        "colab": {
          "base_uri": "https://localhost:8080/"
        },
        "outputId": "b62cde10-bf00-44aa-c8f8-2a12416c936a"
      },
      "source": [
        "!pip install hmmlearn\n",
        "from hmmlearn import hmm \n",
        "import pandas as pd \n",
        "import numpy as np \n",
        "import matplotlib.pyplot as plt\n",
        "import itertools"
      ],
      "execution_count": 1,
      "outputs": [
        {
          "output_type": "stream",
          "name": "stdout",
          "text": [
            "Requirement already satisfied: hmmlearn in /usr/local/lib/python3.7/dist-packages (0.2.6)\n",
            "Requirement already satisfied: numpy>=1.10 in /usr/local/lib/python3.7/dist-packages (from hmmlearn) (1.19.5)\n",
            "Requirement already satisfied: scikit-learn>=0.16 in /usr/local/lib/python3.7/dist-packages (from hmmlearn) (1.0.1)\n",
            "Requirement already satisfied: scipy>=0.19 in /usr/local/lib/python3.7/dist-packages (from hmmlearn) (1.4.1)\n",
            "Requirement already satisfied: joblib>=0.11 in /usr/local/lib/python3.7/dist-packages (from scikit-learn>=0.16->hmmlearn) (1.1.0)\n",
            "Requirement already satisfied: threadpoolctl>=2.0.0 in /usr/local/lib/python3.7/dist-packages (from scikit-learn>=0.16->hmmlearn) (3.0.0)\n"
          ]
        }
      ]
    },
    {
      "cell_type": "code",
      "metadata": {
        "colab": {
          "base_uri": "https://localhost:8080/",
          "height": 419
        },
        "id": "DxIto4eMmBX_",
        "outputId": "03b605ce-6628-4f11-8a2a-e521dc16618c"
      },
      "source": [
        "stock = pd.read_csv('VNINDEX1.csv')\n",
        "stock"
      ],
      "execution_count": 2,
      "outputs": [
        {
          "output_type": "execute_result",
          "data": {
            "text/html": [
              "<div>\n",
              "<style scoped>\n",
              "    .dataframe tbody tr th:only-of-type {\n",
              "        vertical-align: middle;\n",
              "    }\n",
              "\n",
              "    .dataframe tbody tr th {\n",
              "        vertical-align: top;\n",
              "    }\n",
              "\n",
              "    .dataframe thead th {\n",
              "        text-align: right;\n",
              "    }\n",
              "</style>\n",
              "<table border=\"1\" class=\"dataframe\">\n",
              "  <thead>\n",
              "    <tr style=\"text-align: right;\">\n",
              "      <th></th>\n",
              "      <th>Date</th>\n",
              "      <th>Open</th>\n",
              "      <th>High</th>\n",
              "      <th>Low</th>\n",
              "      <th>Close</th>\n",
              "      <th>Volume</th>\n",
              "    </tr>\n",
              "  </thead>\n",
              "  <tbody>\n",
              "    <tr>\n",
              "      <th>0</th>\n",
              "      <td>2000-07-28</td>\n",
              "      <td>100.0000</td>\n",
              "      <td>100.00</td>\n",
              "      <td>100.00</td>\n",
              "      <td>100.00</td>\n",
              "      <td>4200</td>\n",
              "    </tr>\n",
              "    <tr>\n",
              "      <th>1</th>\n",
              "      <td>2000-07-31</td>\n",
              "      <td>101.5500</td>\n",
              "      <td>101.55</td>\n",
              "      <td>101.55</td>\n",
              "      <td>101.55</td>\n",
              "      <td>10300</td>\n",
              "    </tr>\n",
              "    <tr>\n",
              "      <th>2</th>\n",
              "      <td>2000-08-02</td>\n",
              "      <td>103.3800</td>\n",
              "      <td>103.38</td>\n",
              "      <td>103.38</td>\n",
              "      <td>103.38</td>\n",
              "      <td>300</td>\n",
              "    </tr>\n",
              "    <tr>\n",
              "      <th>3</th>\n",
              "      <td>2000-08-04</td>\n",
              "      <td>105.2000</td>\n",
              "      <td>105.20</td>\n",
              "      <td>105.20</td>\n",
              "      <td>105.20</td>\n",
              "      <td>3800</td>\n",
              "    </tr>\n",
              "    <tr>\n",
              "      <th>4</th>\n",
              "      <td>2000-08-07</td>\n",
              "      <td>106.9200</td>\n",
              "      <td>106.92</td>\n",
              "      <td>106.92</td>\n",
              "      <td>106.92</td>\n",
              "      <td>13200</td>\n",
              "    </tr>\n",
              "    <tr>\n",
              "      <th>...</th>\n",
              "      <td>...</td>\n",
              "      <td>...</td>\n",
              "      <td>...</td>\n",
              "      <td>...</td>\n",
              "      <td>...</td>\n",
              "      <td>...</td>\n",
              "    </tr>\n",
              "    <tr>\n",
              "      <th>5137</th>\n",
              "      <td>2021-10-18</td>\n",
              "      <td>1395.5699</td>\n",
              "      <td>1402.63</td>\n",
              "      <td>1390.88</td>\n",
              "      <td>1395.53</td>\n",
              "      <td>740018700</td>\n",
              "    </tr>\n",
              "    <tr>\n",
              "      <th>5138</th>\n",
              "      <td>2021-10-19</td>\n",
              "      <td>1395.5300</td>\n",
              "      <td>1399.66</td>\n",
              "      <td>1388.95</td>\n",
              "      <td>1395.33</td>\n",
              "      <td>582318100</td>\n",
              "    </tr>\n",
              "    <tr>\n",
              "      <th>5139</th>\n",
              "      <td>2021-10-20</td>\n",
              "      <td>1398.4500</td>\n",
              "      <td>1401.76</td>\n",
              "      <td>1376.15</td>\n",
              "      <td>1393.80</td>\n",
              "      <td>771825800</td>\n",
              "    </tr>\n",
              "    <tr>\n",
              "      <th>5140</th>\n",
              "      <td>2021-10-21</td>\n",
              "      <td>1397.5900</td>\n",
              "      <td>1398.45</td>\n",
              "      <td>1384.77</td>\n",
              "      <td>1384.77</td>\n",
              "      <td>659155300</td>\n",
              "    </tr>\n",
              "    <tr>\n",
              "      <th>5141</th>\n",
              "      <td>2021-10-22</td>\n",
              "      <td>1384.7700</td>\n",
              "      <td>1393.45</td>\n",
              "      <td>1384.77</td>\n",
              "      <td>1389.24</td>\n",
              "      <td>798130096</td>\n",
              "    </tr>\n",
              "  </tbody>\n",
              "</table>\n",
              "<p>5142 rows × 6 columns</p>\n",
              "</div>"
            ],
            "text/plain": [
              "            Date       Open     High      Low    Close     Volume\n",
              "0     2000-07-28   100.0000   100.00   100.00   100.00       4200\n",
              "1     2000-07-31   101.5500   101.55   101.55   101.55      10300\n",
              "2     2000-08-02   103.3800   103.38   103.38   103.38        300\n",
              "3     2000-08-04   105.2000   105.20   105.20   105.20       3800\n",
              "4     2000-08-07   106.9200   106.92   106.92   106.92      13200\n",
              "...          ...        ...      ...      ...      ...        ...\n",
              "5137  2021-10-18  1395.5699  1402.63  1390.88  1395.53  740018700\n",
              "5138  2021-10-19  1395.5300  1399.66  1388.95  1395.33  582318100\n",
              "5139  2021-10-20  1398.4500  1401.76  1376.15  1393.80  771825800\n",
              "5140  2021-10-21  1397.5900  1398.45  1384.77  1384.77  659155300\n",
              "5141  2021-10-22  1384.7700  1393.45  1384.77  1389.24  798130096\n",
              "\n",
              "[5142 rows x 6 columns]"
            ]
          },
          "metadata": {},
          "execution_count": 2
        }
      ]
    },
    {
      "cell_type": "code",
      "metadata": {
        "id": "Z2jppwOGmDEt"
      },
      "source": [
        "def data_processing(dataframe):        \n",
        "    # dataframe['Date'] = [i.split(' ')[0][:] for i in dataframe['Date']]\n",
        "    dataframe['Date'] = dataframe['Date'].apply(pd.Timestamp) #very important: convert string to date\n",
        "    dataframe = dataframe[dataframe['Date'] >= pd.to_datetime('2015-01-01' , format='%Y-%m-%d')]\n",
        "    dataframe.set_index(['Date'], inplace = True)\n",
        "    return dataframe\n",
        "\n",
        "\n",
        "# def return_cal(dataframe):\n",
        "#     dataframe['return'] = (dataframe['Close'] - dataframe['Close'].shift(1))/dataframe['Close'].shift(1)\n",
        "#     dataframe.dropna(inplace  = True)\n",
        "\n",
        "def features_creating(dataframe):\n",
        "    new_dataframe = pd.DataFrame()\n",
        "    new_dataframe['close_return'] = (dataframe['Close'] - dataframe['Close'].shift(1))/dataframe['Close'].shift(1)\n",
        "    new_dataframe['high_return'] = (dataframe['High'] - dataframe['High'].shift(1))/dataframe['High'].shift(1)\n",
        "    new_dataframe['low_return'] = (dataframe['Low'] - dataframe['Low'].shift(1))/dataframe['Low'].shift(1)\n",
        "    # dataframe['vol_change'] = (dataframe['Volume'] - dataframe['Volume'].shift(1))/dataframe['Volume'].shift(1)\n",
        "    new_dataframe.dropna(inplace  = True)\n",
        "    return new_dataframe\n",
        "\n",
        "def all_possible_outcome(num_f1,num_f2,num_f3 ):\n",
        "    f1 = np.linspace(-0.1, 0.1, num_f1)\n",
        "    f2 = np.linspace(-0.1, 0.1, num_f2)\n",
        "    f3 = np.linspace(-0.1, 0.1, num_f3)\n",
        "    # f4 = np.linspace(-0.1, 0.1, num_f4)\n",
        "    all_outcome = np.array(list(itertools.product(f1, f2, f3)))\n",
        "    return all_outcome\n",
        "\n"
      ],
      "execution_count": 3,
      "outputs": []
    },
    {
      "cell_type": "code",
      "metadata": {
        "id": "YvFamc_bm8BT"
      },
      "source": [
        "stock = data_processing(stock)\n",
        "train = stock[:'2021-09-01']\n",
        "test = stock['2021-09-02':]\n"
      ],
      "execution_count": 4,
      "outputs": []
    },
    {
      "cell_type": "code",
      "metadata": {
        "id": "A-7CFZdKm8Z7"
      },
      "source": [
        "# stock = stock.iloc[:,5:]\n",
        "# stock"
      ],
      "execution_count": 5,
      "outputs": []
    },
    {
      "cell_type": "code",
      "metadata": {
        "id": "vud3N2hYm__H"
      },
      "source": [
        "# train = stock[:'2021-09-01']\n",
        "# test = stock['2021-09-02':]"
      ],
      "execution_count": 6,
      "outputs": []
    },
    {
      "cell_type": "code",
      "metadata": {
        "id": "CnzLegj7phys"
      },
      "source": [
        "\n",
        "\n"
      ],
      "execution_count": 6,
      "outputs": []
    },
    {
      "cell_type": "code",
      "metadata": {
        "id": "fnCaXnA9oIhR"
      },
      "source": [
        "def best_state_count(dataframe):\n",
        "    # aic_vec = []\n",
        "    bic_vec = []\n",
        "    M_obs_point = dataframe.shape[1]\n",
        "    #choose state randomly from 2-6:\n",
        "    for state in range(2,7):\n",
        "        param_num = state**2 + state - 1\n",
        "        #tol: convergence threshold\n",
        "        #use full cov matrix\n",
        "        model = hmm.GaussianHMM(n_components=state, covariance_type = 'full', tol = 0.0001, n_iter= 10000)\n",
        "        model.fit(dataframe.iloc[:, :5])\n",
        "        \n",
        "        # aic = -2*model.score(dataframe.iloc[:,:5]) + 2*param_num\n",
        "        # aic_vec.append(aic)\n",
        "        bic_vec.append( -2*model.score(dataframe.iloc[:,:5]) + param_num*np.log(M_obs_point) )\n",
        "\n",
        "    optimal_state = np.argmin(bic_vec)\n",
        "    return optimal_state"
      ],
      "execution_count": 7,
      "outputs": []
    },
    {
      "cell_type": "code",
      "metadata": {
        "colab": {
          "base_uri": "https://localhost:8080/"
        },
        "id": "PMJeg3-2o22H",
        "outputId": "cc0bc7da-9f63-4e26-bc54-6749c739d59c"
      },
      "source": [
        "optimal_state = best_state_count(train)\n",
        "print(optimal_state)"
      ],
      "execution_count": 8,
      "outputs": [
        {
          "output_type": "stream",
          "name": "stdout",
          "text": [
            "4\n"
          ]
        }
      ]
    },
    {
      "cell_type": "code",
      "metadata": {
        "id": "d_Hk4vCao6n6"
      },
      "source": [
        "def prediction(train, test):\n",
        "    # train_data = features_creating(train)\n",
        "    # test_data = features_creating(test)\n",
        "    test_length = test.shape[0]\n",
        "    \n",
        "    # p_prediction = []\n",
        "    r_prediction = []\n",
        "    for i in range(test_length+1):\n",
        "        if i == 0:\n",
        "            new_train = train\n",
        "            new_train = features_creating(new_train)\n",
        "        if i!= 0:\n",
        "            new_train = pd.concat([train, test.iloc[:i,:]], axis = 0)\n",
        "            new_train = features_creating(new_train)    \n",
        "\n",
        "        model = hmm.GaussianHMM(n_components=optimal_state)\n",
        "        model.fit(new_train)\n",
        "        a = all_possible_outcome(100,10,10)\n",
        "        score_init = 0\n",
        "        for j in range(a.shape[0]):\n",
        "            new_train = np.array(new_train)\n",
        "            new_data = np.concatenate((new_train, np.array([a[j,:]])),axis = 0)\n",
        "            current_score = model.score(new_data)\n",
        "            if current_score > score_init:\n",
        "                score_init = current_score\n",
        "                best_index = j\n",
        "        \n",
        "        best_scenario = a[best_index,0]\n",
        "        r_prediction.append(best_scenario)\n",
        "    \n",
        "    return r_prediction\n",
        "\n"
      ],
      "execution_count": 9,
      "outputs": []
    },
    {
      "cell_type": "code",
      "metadata": {
        "id": "mD0lxAHqpwoY"
      },
      "source": [
        "return_vector = prediction(train,test)"
      ],
      "execution_count": 10,
      "outputs": []
    },
    {
      "cell_type": "code",
      "metadata": {
        "id": "zxW6rc5PtMft"
      },
      "source": [
        "new_data = pd.concat([train.iloc[-1:,:], test], axis = 0)\n",
        "close_data = np.array(new_data['Close']).reshape(-1,1)\n",
        "return_vector = np.array(return_vector).reshape(-1,1)\n",
        "# print(close_data[:-1,:])\n",
        "predicted_price = (close_data*(1+return_vector))\n",
        "# print(test)\n",
        "# new_data[:-10]"
      ],
      "execution_count": 11,
      "outputs": []
    },
    {
      "cell_type": "code",
      "metadata": {
        "id": "tpp_qIww0Oun",
        "colab": {
          "base_uri": "https://localhost:8080/",
          "height": 320
        },
        "outputId": "e073f206-8d87-4bcc-a125-93401a723f12"
      },
      "source": [
        "plt.figure(figsize=(10,5))\n",
        "plt.plot(predicted_price[:-1,:], color  = 'red', label = 'prediction')\n",
        "plt.plot(np.array(test['Close']), color = 'green', label = 'actual')\n",
        "plt.legend(loc=\"upper left\")\n",
        "plt.show()"
      ],
      "execution_count": 12,
      "outputs": [
        {
          "output_type": "display_data",
          "data": {
            "image/png": "[encoded data removed]",
            "text/plain": [
              "<Figure size 720x360 with 1 Axes>"
            ]
          },
          "metadata": {
            "needs_background": "light"
          }
        }
      ]
    },
    {
      "cell_type": "code",
      "metadata": {
        "id": "ZLBfXtEhj6wZ"
      },
      "source": [
        ""
      ],
      "execution_count": 13,
      "outputs": []
    }
  ]
}