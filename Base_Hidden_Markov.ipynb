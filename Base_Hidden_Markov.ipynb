{
  "nbformat": 4,
  "nbformat_minor": 0,
  "metadata": {
    "colab": {
      "name": "Base Hidden Markov.ipynb",
      "provenance": [],
      "collapsed_sections": [],
      "authorship_tag": "ABX9TyPqFNOgIdJ0dXrd6otxgPeE",
      "include_colab_link": true
    },
    "kernelspec": {
      "name": "python3",
      "display_name": "Python 3"
    },
    "language_info": {
      "name": "python"
    }
  },
  "cells": [
    {
      "cell_type": "markdown",
      "metadata": {
        "id": "view-in-github",
        "colab_type": "text"
      },
      "source": [
        "<a href=\"https://colab.research.google.com/github/tanvu10/Hidden_Markov_Model/blob/master/Base_Hidden_Markov.ipynb\" target=\"_parent\"><img src=\"https://colab.research.google.com/assets/colab-badge.svg\" alt=\"Open In Colab\"/></a>"
      ]
    },
    {
      "cell_type": "code",
      "metadata": {
        "id": "BjTJs7ZesuyA"
      },
      "source": [
        "import numpy as np\n",
        "import pandas as pd"
      ],
      "execution_count": 2,
      "outputs": []
    },
    {
      "cell_type": "code",
      "metadata": {
        "id": "KZlUkaCdwl7L"
      },
      "source": [
        "class HiddenMarkov():\n",
        "    def __init__(self, A, B, init_state_vec, states = None, obs = None):\n",
        "        'A: transition matrix: NxN'\n",
        "        'B: emission matrix: NxM'\n",
        "        'init_state_vec: Nx1'\n",
        "        'N: state num'\n",
        "        'M: observation num'\n",
        "        self.A = A\n",
        "        self.B = B\n",
        "        self.pi = init_state_vec\n",
        "        self.state_num = A.shape[0]\n",
        "        self.obs_num = B.shape[1]\n",
        "        self.states = states  \n",
        "        self.obs = obs\n",
        "        self.state_dic_map()\n",
        "        self.observation_dic_map()\n",
        "        self.stage_num = None\n",
        "\n",
        "\n",
        "    def state_dic_map(self):\n",
        "        self.state_dic ={}\n",
        "        for index, states in enumerate(self.states):\n",
        "            self.state_map[index] = states\n",
        "    \n",
        "    def observation_dic_map(self):\n",
        "        self.observation_dic ={}\n",
        "        for index, observation in enumerate(self.obs):\n",
        "            #map input to index of observation\n",
        "            self.observation_dic[observation] = index\n",
        "    \n",
        "    def alpha(self, observation):\n",
        "        'using forward algorithm'\n",
        "        alpha = np.zeros((self.stage_num, self.state_num)) #matrix \n",
        "        c = np.zeros((self.stage_num, 1)) #column vec\n",
        "\n",
        "\n",
        "        first_obs = self.observation_dic[observation[0]]\n",
        "        #alpha0: for t = 0 (column_vec)\n",
        "        alpha[0,:] = np.multiply(self.B[:,first_obs], self.pi).T \n",
        "        #C_scale \n",
        "        c[0,0] = 1/np.sum(alpha[0,:])\n",
        "        alpha[0,:] = alpha[0,:]*c[0,0]\n",
        "\n",
        "\n",
        "        #forward alpha:\n",
        "        for i in range(1,self.stage_num):\n",
        "            #transition_vec to stage i\n",
        "            alpha[i,:] = (self.A.T.dot(alpha[i-1, :]))  *   self.B[:, self.observation_dic[obervation[i]]].T   #row vector\n",
        "            c[i,0] = 1/np.sum(alpha[i,:])\n",
        "            alpha[i,:] = alpha[i,:]*c[i,0]\n",
        "        return alpha, c\n",
        "\n",
        "    def beta(self,observation, c):\n",
        "        beta = np.zeros((self.stage_num, self.state_num))\n",
        "        \n",
        "        #beta at time T:\n",
        "        beta[self.stage_num-1,:] = 1*c[stage_num-1,:]\n",
        "\n",
        "        #backward beta\n",
        "        for i in reversed(range(stage_num-1)):\n",
        "            beta[i,:] = np.dot(A, (B[:, self.observation_dic[observation[i+1]]] *  beta[i+1,:].T  ).T   ).T\n",
        "            beta[i,:] = beta[i,:]*c[i,:]\n",
        "\n",
        "        return beta\n",
        "\n",
        "    def gamma(self, observation):\n",
        "\n",
        "        alpha, scale = self.alpha(observation)\n",
        "        beta = self.beta(observation, scale)\n",
        "\n",
        "        #P(O|lambda)\n",
        "        P_sequence = np.sum(alpha[-1,:])\n",
        "        gamma = (alpha*beta)/P_sequence\n",
        "\n",
        "        return gamma\n",
        "\n",
        "\n",
        "    def B_update(self, observation):\n",
        "\n",
        "        new_B = np.zeros((self.state_num,self.obs_num))\n",
        "        gamma = self.gamma(observation)\n",
        "        observation_index_list = []\n",
        "        for i in range(len(observation)-1):\n",
        "            index = self.observation_dic[obsevation[i]]\n",
        "            observation_index.append(index)\n",
        "\n",
        "\n",
        "        for i in range(self.state_num):\n",
        "            for j in range(self.obs_num):\n",
        "                obs_occur_index = np.where(observation_index_list = j)[0]\n",
        "                new_B[i, j] = np.sum(gamma[obs_occur_index,i])/np.sum(gamma[:,i])\n",
        "        return new_B\n",
        "\n",
        "\n",
        "\n",
        "    def A_update(self, observation):\n",
        "        alpha, scale = self.alpha(observation)\n",
        "        beta = self.beta(observation, scale)\n",
        "        gamma = self.gamma(obervation)\n",
        "\n",
        "        sequence_len = len(observation)\n",
        "        new_A = np.zeros((self.state_num, self.state_num))\n",
        "\n",
        "        #pseudo matrix: p_it  = b_i(O_t)\n",
        "        pseudo_matrix = np.zeros((sequence_len, self.state_num))\n",
        "        for i in range(self.state_num):\n",
        "            pseudo_matrix[:,i] = [       self.B[i, self.observation_dic[observation[j]]]    for j in range(sequence_len)     ].reshape(-1,1)\n",
        "            \n",
        "\n",
        "        P_sequence = np.sum(alpha[-1,:])\n",
        "\n",
        "        for i in range(self.state_num):\n",
        "            for j in range(self.state_num):\n",
        "                di_gamma = alpha[:-1,i].reshape(-1,1) * beta[1:,j].reshape(-1,1)  *   pseudo_matrix[1:, j] * self.A[i,j]* P_sequence\n",
        "                new_A[i,j] = np.sum(di_gamma)/np.sum(gamma[:-1,i])\n",
        "\n",
        "        return new_A\n",
        "                \n",
        "\n",
        "\n",
        "    def pi_update(self, observation):\n",
        "        gamma = self.gamma(observation)\n",
        "        new_pi = gamma[0,:]\n",
        "        return new_pi\n",
        "        \n",
        "\n",
        "\n",
        "\n",
        "\n",
        "\n",
        "\n",
        "\n",
        "        \n",
        "\n",
        "        \n",
        "            \n",
        "\n",
        "    \n",
        "\n"
      ],
      "execution_count": null,
      "outputs": []
    },
    {
      "cell_type": "code",
      "metadata": {
        "colab": {
          "base_uri": "https://localhost:8080/"
        },
        "id": "6O1SKCgWyzb0",
        "outputId": "14d2f17e-b629-457f-cb68-2483537ceca4"
      },
      "source": [
        "for i in reversed(range(10-1)):\n",
        "    print(i)\n",
        "\n",
        "A = np.zeros((10, 5))\n",
        "A[9,:] = 1\n",
        "print(A[-1,:])\n",
        "B = A[-1,:].reshape(1, -1)\n",
        "C = A[-1,:].reshape(1, -1)\n",
        "H = B*C\n",
        "print('H', H)\n",
        "print(B)\n",
        "A = np.concatenate((A, B), axis =0 )\n",
        "print(A)\n",
        "# print([i*10 for i in B[i,:]])\n",
        "\n",
        "# A = ['1', '2','3']\n",
        "# B ={}\n",
        "# for index, observation in enumerate(A):\n",
        "#     B[observation] = index"
      ],
      "execution_count": 35,
      "outputs": [
        {
          "output_type": "stream",
          "name": "stdout",
          "text": [
            "8\n",
            "7\n",
            "6\n",
            "5\n",
            "4\n",
            "3\n",
            "2\n",
            "1\n",
            "0\n",
            "[1. 1. 1. 1. 1.]\n",
            "H [[1. 1. 1. 1. 1.]]\n",
            "[[1. 1. 1. 1. 1.]]\n",
            "[[0. 0. 0. 0. 0.]\n",
            " [0. 0. 0. 0. 0.]\n",
            " [0. 0. 0. 0. 0.]\n",
            " [0. 0. 0. 0. 0.]\n",
            " [0. 0. 0. 0. 0.]\n",
            " [0. 0. 0. 0. 0.]\n",
            " [0. 0. 0. 0. 0.]\n",
            " [0. 0. 0. 0. 0.]\n",
            " [0. 0. 0. 0. 0.]\n",
            " [1. 1. 1. 1. 1.]\n",
            " [1. 1. 1. 1. 1.]]\n"
          ]
        }
      ]
    },
    {
      "cell_type": "code",
      "metadata": {
        "id": "dB__tWEjy5Sh",
        "colab": {
          "base_uri": "https://localhost:8080/"
        },
        "outputId": "9e03777d-5d55-4b36-8562-d79377d307c3"
      },
      "source": [
        "B['1']"
      ],
      "execution_count": 14,
      "outputs": [
        {
          "output_type": "execute_result",
          "data": {
            "text/plain": [
              "0"
            ]
          },
          "metadata": {},
          "execution_count": 14
        }
      ]
    },
    {
      "cell_type": "code",
      "metadata": {
        "id": "SofL7Z3mrPdh"
      },
      "source": [
        ""
      ],
      "execution_count": null,
      "outputs": []
    }
  ]
}